{
 "cells": [
  {
   "cell_type": "markdown",
   "metadata": {},
   "source": [
    "# Linear Algebra\n",
    "\n",
    "\"There is hardly any theory which is more elementary than linear algebra. In spite of the fact that generations of professors and textbook writers have obscured its simplicity by preposterous calculations with matrices.\"\n",
    "**- Jean Dieudomme**\n",
    "\n",
    "- Geometric understanding is useful.\n",
    "\n",
    "\n",
    "\n",
    "\n"
   ]
  },
  {
   "cell_type": "markdown",
   "metadata": {},
   "source": [
    "## Vector\n",
    "\n",
    "- As per physics student, vectors are arrows pointing towards space. Length and direction defines the vector.\n",
    "- As per CS student, vectors are the ordered lists of numbers.\n",
    "- As per mathematicians, vectors can be anything. They generalize vectors.\n",
    "- In general, vector represents a arror in a gicen direction inside a coordinate system.\n",
    "- In coordinate system, the coordinates of a vector is a pair of numbers that basically gives instructions for how to get from the tail of that vector at the origin to it's tip.\n",
    "- Vector addition and scalar multiplications(Scaling -- Multiply vector by a constant). \n",
    "\n",
    "### Vector - Mathematical definition\n",
    "- Each element in the vector, also called component or coordinate, is a number, denoted here by a_i.\n",
    "- Each vector holds the magnitude as well as the direction of the movement.\n",
    "- The symbol we use for the magnitude is | |.\n",
    "- To calculate the magnitude of a 2D vector we will use the Pythagorean Theorem.\n",
    "- To calculate the direction of the movement we will use an angle.\n",
    "\n",
    "**The mathematical notations are represented in latex. You can check the LaTeX Folder.** "
   ]
  },
  {
   "cell_type": "markdown",
   "metadata": {},
   "source": [
    "## Linear Combinations\n",
    "\n",
    "- A linear combination of vectors $v_1, v_2, \\dots, v_n$ is a vector of the form.\n",
    "- $\\hat{i}$ and $\\hat{j}$ are the **basis vectors** of the xy coordination system.\n",
    "\n",
    "\"Mathematics requires a small dose, not of genius but of an imaginative freedom which, in a larger dose, would be insanity.\"\n",
    "**- Angus K. Rodgers**\n",
    "\n",
    "- Linear combination of $\\vec{v}$ and $\\vec{w}$: $$a\\vec{v} + b\\vec{w}$$\n",
    "  where a, b are scalars\n",
    "\n",
    "- The **span** of $\\vec{v}$ and $\\vec{w}$ is the set of all their linear combinations where a and b are all real numbers.\n"
   ]
  },
  {
   "cell_type": "code",
   "execution_count": null,
   "metadata": {},
   "outputs": [],
   "source": []
  }
 ],
 "metadata": {
  "kernelspec": {
   "display_name": "Python 3",
   "language": "python",
   "name": "python3"
  },
  "language_info": {
   "codemirror_mode": {
    "name": "ipython",
    "version": 3
   },
   "file_extension": ".py",
   "mimetype": "text/x-python",
   "name": "python",
   "nbconvert_exporter": "python",
   "pygments_lexer": "ipython3",
   "version": "3.12.0"
  }
 },
 "nbformat": 4,
 "nbformat_minor": 2
}
