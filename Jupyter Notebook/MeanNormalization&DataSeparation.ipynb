{
 "cells": [
  {
   "cell_type": "markdown",
   "metadata": {},
   "source": [
    "# Mean Normalization\n",
    "\n",
    "In machine learning we use large amounts of data to train our models. Some machine learning algorithms may require that the data is *normalized* in order to work correctly. The idea of normalization, also known as *feature scaling*, is to ensure that all the data is on a similar scale, *i.e.* that all the data takes on a similar range of values. For example, we might have a dataset that has values between 0 and 5,000. By normalizing the data we can make the range of values be between 0 and 1.\n",
    "\n",
    "In this lab, you will be performing a different kind of feature scaling known as *mean normalization*. Mean normalization will scale the data, but instead of making the values be between 0 and 1, it will distribute the values evenly in some small interval around zero. For example, if we have a dataset that has values between 0 and 5,000, after mean normalization the range of values will be distributed in some small range around 0, for example between -3 to 3. Because the range of values are distributed evenly around zero, this guarantees that the average (mean) of all elements will be zero. Therefore, when you perform *mean normalization* your data will not only be scaled but it will also have an average of zero. \n",
    "\n",
    "# To Do:\n",
    "\n",
    "You will start by importing NumPy and creating a rank 2 ndarray of random integers between 0 and 5,000 (inclusive) with 1000 rows and 20 columns. This array will simulate a dataset with a wide range of values. Fill in the code below"
   ]
  },
  {
   "cell_type": "code",
   "execution_count": 2,
   "metadata": {},
   "outputs": [
    {
     "name": "stdout",
     "output_type": "stream",
     "text": [
      "(1000, 20)\n"
     ]
    }
   ],
   "source": [
    "# import NumPy into Python\n",
    "import numpy as np\n",
    "\n",
    "# Create a 1000 x 20 ndarray with random integers in the half-open interval [0, 5001).\n",
    "X = np.random.randint(0, 5001, size=(1000, 20))\n",
    "\n",
    "# print the shape of X\n",
    "print(X.shape)"
   ]
  },
  {
   "cell_type": "markdown",
   "metadata": {},
   "source": [
    "Now that you created the array we will mean normalize it. We will perform mean normalization using the following equation:\n",
    "\n",
    "$\\mbox{Norm_Col}_i = \\frac{\\mbox{Col}_i - \\mu_i}{\\sigma_i}$\n",
    "\n",
    "where $\\mbox{Col}_i$ is the $i$th column of $X$, $\\mu_i$ is average of the values in the $i$th column of $X$, and $\\sigma_i$ is the standard deviation of the values in the $i$th column of $X$. In other words, mean normalization is performed by subtracting from each column of $X$ the average of its values, and then by dividing by the standard deviation of its values. In the space below, you will first calculate the average and standard deviation of each column of $X$. "
   ]
  },
  {
   "cell_type": "code",
   "execution_count": 3,
   "metadata": {},
   "outputs": [],
   "source": [
    "# Average of the values in each column of X\n",
    "ave_cols = np.average(X, axis=0)\n",
    "\n",
    "# Standard Deviation of the values in each column of X\n",
    "std_cols = np.std(X, axis=0)"
   ]
  },
  {
   "cell_type": "markdown",
   "metadata": {},
   "source": [
    "If you have done the above calculations correctly, then `ave_cols` and `std_cols`, should both be vectors with shape `(20,)` since $X$ has 20 columns. You can verify this by filling the code below:"
   ]
  },
  {
   "cell_type": "code",
   "execution_count": 4,
   "metadata": {},
   "outputs": [
    {
     "name": "stdout",
     "output_type": "stream",
     "text": [
      "(20,)\n",
      "(20,)\n"
     ]
    }
   ],
   "source": [
    "# Print the shape of ave_cols\n",
    "print(ave_cols.shape)\n",
    "\n",
    "# Print the shape of std_cols\n",
    "print(std_cols.shape)"
   ]
  },
  {
   "cell_type": "markdown",
   "metadata": {},
   "source": [
    "You can now take advantage of Broadcasting to calculate the mean normalized version of $X$ in just one line of code using the equation above. Fill in the code below"
   ]
  },
  {
   "cell_type": "code",
   "execution_count": 5,
   "metadata": {},
   "outputs": [],
   "source": [
    "# Mean normalize X\n",
    "X_norm = (X - ave_cols)/std_cols"
   ]
  },
  {
   "cell_type": "markdown",
   "metadata": {},
   "source": [
    "If you have performed the mean normalization correctly, then the average of all the elements in $X_{\\tiny{\\mbox{norm}}}$ should be close to zero, and they should be evenly distributed in some small interval around zero. You can verify this by filing the code below:"
   ]
  },
  {
   "cell_type": "code",
   "execution_count": null,
   "metadata": {},
   "outputs": [],
   "source": [
    "# Print the average of all the values of X_norm\n",
    "print(np.average(X_norm))\n",
    "\n",
    "# Print the average of the minimum value in each column of X_norm\n",
    "print(np.average(np.min(X_norm, axis=0)))\n",
    "\n",
    "# Print the average of the maximum value in each column of X_norm\n",
    "print(np.average(np.max(X_norm, axis=0)))"
   ]
  },
  {
   "cell_type": "markdown",
   "metadata": {},
   "source": [
    "You should note that since $X$ was created using random integers, the above values will vary. \n",
    "\n",
    "# Data Separation\n",
    "\n",
    "After the data has been mean normalized, it is customary in machine learnig to split our dataset into three sets:\n",
    "\n",
    "1. A Training Set\n",
    "2. A Cross Validation Set\n",
    "3. A Test Set\n",
    "\n",
    "The dataset is usually divided such that the Training Set contains 60% of the data, the Cross Validation Set contains 20% of the data, and the Test Set contains 20% of the data. \n",
    "\n",
    "In this part of the lab you will separate `X_norm` into a Training Set, Cross Validation Set, and a Test Set. Each data set will contain rows of `X_norm` chosen at random, making sure that we don't pick the same row twice. This will guarantee that all the rows of `X_norm` are chosen and randomly distributed among the three new sets.\n",
    "\n",
    "You will start by creating a rank 1 ndarray that contains a random permutation of the row indices of `X_norm`. You can do this by using the `np.random.permutation()` function. The `np.random.permutation(N)` function creates a random permutation of integers from 0 to `N - 1`. Let's see an example:"
   ]
  },
  {
   "cell_type": "code",
   "execution_count": 6,
   "metadata": {},
   "outputs": [
    {
     "data": {
      "text/plain": [
       "array([4, 3, 1, 2, 0])"
      ]
     },
     "execution_count": 6,
     "metadata": {},
     "output_type": "execute_result"
    }
   ],
   "source": [
    "# We create a random permutation of integers 0 to 4\n",
    "np.random.permutation(5)"
   ]
  },
  {
   "cell_type": "markdown",
   "metadata": {},
   "source": [
    "# To Do\n",
    "\n",
    "In the space below create a rank 1 ndarray that contains a random permutation of the row indices of `X_norm`. You can do this in one line of code by extracting the number of rows of `X_norm` using the `shape` attribute and then passing it to the  `np.random.permutation()` function. Remember the `shape` attribute returns a tuple with two numbers in the form `(rows,columns)`."
   ]
  },
  {
   "cell_type": "code",
   "execution_count": 8,
   "metadata": {},
   "outputs": [
    {
     "name": "stdout",
     "output_type": "stream",
     "text": [
      "[903 760 264 502 963 196 982 957 220 129 607 625 819 599 811 437 623 577\n",
      " 336 545 193 579 597 338 303 370 410 456 244  59  42 585 311 416 671 603\n",
      " 524 150 601 247 218 391 171 369 185 197 862 104 844 123 452 999 181 954\n",
      " 665 283 491  71 980 388 792 543  52  79 803 554 594 273 457 780 939 590\n",
      " 166 282 861 740 769 993 447 438 578 679 182 923 684 352 339 787 217 902\n",
      " 265 952 565 587 382 231 106 932 564 836 192 901 161 738 326 396 643 239\n",
      " 210 277 698 838 509 847 251  33 690 344 556 919 989 900  83 651 484 280\n",
      " 226 894 569  60 191  91 503 662 798 439 685 865 759 316 820 777 521 183\n",
      " 783 966 535 228 540 893 722 332 152 857 896 755 143 711 103 695 256 330\n",
      " 664 290 984 207 824 943 483 497 548 636 403 804 945 736 913 853 260  64\n",
      " 696 879 460 486 714  26 362 602 263  30  24 377 528 473 189 955 694 353\n",
      " 761 222 702 411 146 825 259 408 281 978 198 596 267 708 573 132 519 976\n",
      " 292 864 180 721 506 785 619  80 748  14 436 309 494  40 350 530 666 511\n",
      "  46 211 463 904  69 440  63 882 195 255 687 331 703 405 718 489 886 771\n",
      " 213 289 492 746 307 229  76 474 835  54 459 775 715 333 646 431 555 994\n",
      " 899 120  23 359 883 203 743 855   5 147 950 115 190 412 621 402 107 532\n",
      "  53 779 786 895 513 136 628 833 238 848 415 959 446 791 604 631 933 969\n",
      " 588 812 539 789 400 598 482 654 202 122 444 139 574 465 652  72 928 329\n",
      "  68 725 626  18 485 420 829 845 542 778 926  44 947 243 810 850 908 422\n",
      " 520 380 496 885 890 378 733  43 706 170 584 385 527 575 723 915 508 753\n",
      "  11 375 523 920 677 395 918  29  62 154   2 997 983 299 453 971 498 774\n",
      " 547  66 124  35 274 144 668 765 956 641 627 480 839 877 768 612 922 529\n",
      " 764 732 345 227 629 914 451 493 869 659 458 735 552 873 934 515 320 466\n",
      " 591 647 793 194 790 363 832 766 670 809 435 973 429 716 658 541 635 689\n",
      "  48 399 962 781 487 534 944  10 680 467 632 876   8 751 818 271 253  88\n",
      " 212 546 140 661 205  78 568 394 605 475 992 269 582 348 372 121 763 655\n",
      " 977 383 184 972 168 917  58  50 801 699 507 747 892 773 478 985 613 130\n",
      " 640 324  27 179 720 335 455  98 856 533 557 360 138 802 745 910 813 279\n",
      " 476 328 837 499 488 159 200 250 343  67  45 871 912  19 549  12 525 642\n",
      " 223 816 728 128 134 940 815 117 358 566 570 571 401 393 561 518 531 379\n",
      "  41 979 905  22 645 351 730 634 991 749 744 442  38 807 784 968 757 430\n",
      " 586 741 870 563 201 660 308 622  57 756 368 254 428 794 729 572 127 630\n",
      "   9 616 589  37 233 317 551 618  61 230 800 691 340 990 216 449   7 656\n",
      "  96  31   3 921 481 805  21 701 868 650 796 310 175 315 354 286 776 657\n",
      " 365 897 633 300   4  28 951 854  84 637 219 925 544 644 270  95 278 995\n",
      " 772 727 941 257 373  20 700 538  47 425 888 236 178 133 224 495 891 427\n",
      " 162 268  77 970 880 674  56 174 294 409 100 975 374 611 707 965 669 998\n",
      " 479 938 341 559 187  87 361  36 418 334 686 319 770 285 158 709 296 713\n",
      " 160 830 113 795 682 346 960 872 889 581 477 553 301 173 337  16 806 342\n",
      " 517 936  51 987 841 878 981  99 814 105 434 583 510 102 199 946 304 881\n",
      " 712 177 235 514 322 246 823 675  92 101 347 288 116 752 295 500 318 576\n",
      "  81  90 126 312 505 834 911 424 426 404 153 461 163 305  49 204 214 615\n",
      " 357  89 406 407 849 287  34 937 298 145 884 697 595 176 258  94 110 232\n",
      "  15 750 206 953 653 639  82 797 443 996 724 512 986 392 355 988 827 266\n",
      " 433 245 949 501 875 169 593 302 600  32 935 688 676 852 580 782 421 842\n",
      " 432 617 929 131 149 831 398 237  85 111 742  65 384 942 788 468 148 306\n",
      " 624 663 414 620 648 386 667 327 371 866   6 909 673 419 454 758 874 366\n",
      " 356 471 284 118 376 693 526 767 165 638 413 762 608 704 248 469 314 234\n",
      " 705 313 112 562 898 737 364 734 109  13 522 974 261 108 719 964 907 387\n",
      " 142 808 155 164 208 851 215 799 464 135 367 692 141 731 958 537 293 381\n",
      " 490 221  73 450 826  86 821 423  39  55 275 681 924 610 249 186 114 448\n",
      " 119 252 867 172 445 536 272 157 859 417 504 276 843 349 242 614 846 717\n",
      " 151 262 739 931 710 916 906 167  25 967 325 321 817 822 297 860 887 672\n",
      "   0 516  70 726 550 137  97   1 961  17 592 188  74 609 948 470  93 241\n",
      " 930 156 291  75 441 606 840 927 828 462 863 323 558 678 567 389 472 649\n",
      " 560 858 390 240 225 754 683 397 125 209]\n"
     ]
    }
   ],
   "source": [
    "# Create a rank 1 ndarray that contains a random permutation of the row indices of `X_norm`\n",
    "row_indices = np.random.permutation(X_norm.shape[0])\n",
    "print(row_indices)"
   ]
  },
  {
   "cell_type": "markdown",
   "metadata": {},
   "source": [
    "Now you can create the three datasets using the `row_indices` ndarray to select the rows that will go into each dataset. Rememeber that the Training Set contains 60% of the data, the Cross Validation Set contains 20% of the data, and the Test Set contains 20% of the data. Each set requires just one line of code to create. Fill in the code below"
   ]
  },
  {
   "cell_type": "code",
   "execution_count": null,
   "metadata": {},
   "outputs": [],
   "source": [
    "# Make any necessary calculations.\n",
    "# You can save your calculations into variables to use later.\n",
    "\n",
    "\n",
    "# Create a Training Set\n",
    "X_train = np.array([X_norm[row_indices[0:600]]])\n",
    "\n",
    "# Create a Cross Validation Set\n",
    "X_crossVal = np.array([X_norm[row_indices[600:800]]])\n",
    "\n",
    "# Create a Test Set\n",
    "X_test = np.array([X_norm[row_indices[800:1000]]])"
   ]
  },
  {
   "cell_type": "markdown",
   "metadata": {},
   "source": [
    "If you performed the above calculations correctly, then `X_tain` should have 600 rows and 20 columns, `X_crossVal` should have 200 rows and 20 columns, and `X_test` should have 200 rows and 20 columns. You can verify this by filling the code below:"
   ]
  },
  {
   "cell_type": "markdown",
   "metadata": {},
   "source": []
  },
  {
   "cell_type": "code",
   "execution_count": null,
   "metadata": {},
   "outputs": [],
   "source": [
    "# Print the shape of X_train\n",
    "print(X_train.shape)\n",
    "\n",
    "# Print the shape of X_crossVal\n",
    "print(X_crossVal.shape)\n",
    "\n",
    "\n",
    "# Print the shape of X_test\n",
    "print(X_test.shape)\n"
   ]
  },
  {
   "cell_type": "code",
   "execution_count": null,
   "metadata": {},
   "outputs": [],
   "source": []
  }
 ],
 "metadata": {
  "kernelspec": {
   "display_name": "Python 3",
   "language": "python",
   "name": "python3"
  },
  "language_info": {
   "codemirror_mode": {
    "name": "ipython",
    "version": 3
   },
   "file_extension": ".py",
   "mimetype": "text/x-python",
   "name": "python",
   "nbconvert_exporter": "python",
   "pygments_lexer": "ipython3",
   "version": "3.12.0"
  }
 },
 "nbformat": 4,
 "nbformat_minor": 2
}
