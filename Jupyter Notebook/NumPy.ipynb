{
 "cells": [
  {
   "cell_type": "markdown",
   "metadata": {},
   "source": [
    "# Using Build-in functions\n",
    "\n",
    "1. np.zeros(shape) -- an ndarray with a specified shape that is full of zeros.\n",
    "2. np.ones(shape) -- an ndarray with a specified shape that is full of ones.\n",
    "3. np.full(shape, constant value) -- an ndarray with a specified shape that is full of any number we want.\n",
    "4. np.eye(shape) -- a square N x N ndarray corresponding to the identity matrix.\n",
    "5. np.diag() -- Diagonal matrix --a square matrix that only has values in its main diagonal."
   ]
  },
  {
   "cell_type": "code",
   "execution_count": 2,
   "metadata": {},
   "outputs": [
    {
     "name": "stdout",
     "output_type": "stream",
     "text": [
      "X = \n",
      " [[0. 0. 0. 0.]\n",
      " [0. 0. 0. 0.]\n",
      " [0. 0. 0. 0.]]\n",
      "X has dimensions: (3, 4)\n",
      "X is an object of type: <class 'numpy.ndarray'>\n",
      "The elements in X are of type: float64\n"
     ]
    }
   ],
   "source": [
    "# Create a Numpy array of zeros with a desired shape\n",
    "import numpy as np\n",
    "X = np.zeros((3,4))\n",
    "print('X = \\n', X)\n",
    "print('X has dimensions:', X.shape)\n",
    "print('X is an object of type:', type(X))\n",
    "print('The elements in X are of type:', X.dtype)"
   ]
  },
  {
   "cell_type": "code",
   "execution_count": 3,
   "metadata": {},
   "outputs": [
    {
     "name": "stdout",
     "output_type": "stream",
     "text": [
      "X = \n",
      " [[1. 1.]\n",
      " [1. 1.]\n",
      " [1. 1.]]\n",
      "X has dimensions: (3, 2)\n",
      "X is an object of type: <class 'numpy.ndarray'>\n",
      "The elements in X are of type: float64\n"
     ]
    }
   ],
   "source": [
    "# Create a Numpy array of ones with a desired shape\n",
    "X = np.ones((3,2))\n",
    "print('X = \\n', X)\n",
    "print('X has dimensions:', X.shape)\n",
    "print('X is an object of type:', type(X))\n",
    "print('The elements in X are of type:', X.dtype)"
   ]
  },
  {
   "cell_type": "code",
   "execution_count": 4,
   "metadata": {},
   "outputs": [
    {
     "name": "stdout",
     "output_type": "stream",
     "text": [
      "X = \n",
      " [[5 5]\n",
      " [5 5]\n",
      " [5 5]]\n",
      "X has dimensions: (3, 2)\n",
      "X is an object of type: <class 'numpy.ndarray'>\n",
      "The elements in X are of type: int32\n"
     ]
    }
   ],
   "source": [
    "# Create a Numpy array of constants with a desired shape\n",
    "X = np.full((3,2), 5)\n",
    "print('X = \\n', X)\n",
    "print('X has dimensions:', X.shape)\n",
    "print('X is an object of type:', type(X))\n",
    "print('The elements in X are of type:', X.dtype)"
   ]
  },
  {
   "cell_type": "code",
   "execution_count": 5,
   "metadata": {},
   "outputs": [
    {
     "name": "stdout",
     "output_type": "stream",
     "text": [
      "X = \n",
      " [[1. 0. 0. 0.]\n",
      " [0. 1. 0. 0.]\n",
      " [0. 0. 1. 0.]\n",
      " [0. 0. 0. 1.]]\n",
      "X has dimensions: (4, 4)\n",
      "X is an object of type: <class 'numpy.ndarray'>\n",
      "The elements in X are of type: float64\n"
     ]
    }
   ],
   "source": [
    "# Create a Numpy array of an Identity matrix with a desired shape\n",
    "X = np.eye(4)\n",
    "print('X = \\n', X)\n",
    "print('X has dimensions:', X.shape)\n",
    "print('X is an object of type:', type(X))\n",
    "print('The elements in X are of type:', X.dtype)"
   ]
  },
  {
   "cell_type": "markdown",
   "metadata": {},
   "source": [
    "Other methods in numpy:\n",
    "1. numpy.arange()\n",
    "    - Syntax: numpy.arange([start, ]stop, [step, ]dtype=None)\n",
    "    - It returns evenly spaced values within a given interval.\n",
    "\n",
    "\n",
    "2. numpy.linspace()\n",
    "    - Syntax: numpy.linspace(start, stop, num=50, endpoint=True, retstep=False, dtype=None, axis=0)\n",
    "    - It returns num evenly spaced values calculated over the interval [start, stop]\n",
    "\n",
    "\n",
    "3. numpy.reshape\n",
    "    - numpy.reshape(array, newshape, order='C')[source]\n",
    "    - It returns an array containing the same data with a new shape.\n",
    "\n",
    "\n",
    "4. numpy.random.random()\n",
    "    - create an ndarray of the given shape with random floats in the half-open interval (0.0, 1.0)\n",
    "\n",
    "\n",
    "5. np.random.randint(start, stop, size = shape)\n",
    "    - reates an ndarray of the given shape with random integers in the half-open interval (start, stop).\n",
    "\n",
    "\n",
    "6. numpy.random.normal()\n",
    "    - Create a Numpy array of \"Normal\" distributed random numbers.\n",
    "    "
   ]
  },
  {
   "cell_type": "code",
   "execution_count": 6,
   "metadata": {},
   "outputs": [
    {
     "name": "stdout",
     "output_type": "stream",
     "text": [
      "X =  [0 1 2 3 4 5 6 7 8 9]\n",
      "X =  [4 5 6 7 8 9]\n",
      "X =  [ 1  4  7 10 13]\n"
     ]
    }
   ],
   "source": [
    "# Create a Numpy array of evenly spaced values in a given range, using arange(stop_val)\n",
    "X = np.arange(10)\n",
    "print('X = ', X)\n",
    "\n",
    "# Create a Numpy array of evenly spaced values in a given range, using arange(start_val, stop_val)\n",
    "X = np.arange(4,10)\n",
    "print('X = ', X)\n",
    "\n",
    "# Create a Numpy array of evenly spaced values in a given range, using arange(start_val, stop_val, step_size)\n",
    "X = np.arange(1,14,3)\n",
    "print('X = ', X)"
   ]
  },
  {
   "cell_type": "code",
   "execution_count": 11,
   "metadata": {},
   "outputs": [
    {
     "name": "stdout",
     "output_type": "stream",
     "text": [
      "X =  [ 0.          2.77777778  5.55555556  8.33333333 11.11111111 13.88888889\n",
      " 16.66666667 19.44444444 22.22222222 25.        ]\n",
      "X =  [ 0.   2.5  5.   7.5 10.  12.5 15.  17.5 20.  22.5]\n",
      "X =  (array([ 0. ,  2.5,  5. ,  7.5, 10. , 12.5, 15. , 17.5, 20. , 22.5]), 2.5)\n",
      "X =  (array([0.        , 0.55555556, 1.11111111, 1.66666667, 2.22222222,\n",
      "       2.77777778, 3.33333333, 3.88888889, 4.44444444, 5.        ]), 0.5555555555555556)\n"
     ]
    }
   ],
   "source": [
    "# Create a Numpy array of evenly spaced values in a given range, using linspace(start_val, stop_val, num_of_elements)\n",
    "X = np.linspace(0,25,10)\n",
    "print('X = ', X)\n",
    "\n",
    "# Create a Numpy array of evenly spaced values in a given range, using linspace(start_val, stop_val, num_of_elements, endpoint=False)\n",
    "X = np.linspace(0,25,10, endpoint=False)\n",
    "print('X = ', X)\n",
    "\n",
    "# Create a Numpy array of evenly spaced values in a given range, using linspace(start_val, stop_val, num_of_elements, endpoint=False, retstep=True)\n",
    "# retstep=True returns the step size between the elements\n",
    "\n",
    "X = np.linspace(0,25,10, endpoint=False, retstep=True)\n",
    "print('X = ', X)\n",
    "X = np.linspace(0,5,10, endpoint=True, retstep=True)\n",
    "print('X = ', X)\n",
    "\n"
   ]
  },
  {
   "cell_type": "code",
   "execution_count": 16,
   "metadata": {},
   "outputs": [
    {
     "name": "stdout",
     "output_type": "stream",
     "text": [
      "X = \n",
      " [[ 0  1  2  3  4]\n",
      " [ 5  6  7  8  9]\n",
      " [10 11 12 13 14]\n",
      " [15 16 17 18 19]]\n",
      "X = \n",
      " [[ 0  1  2  3]\n",
      " [ 4  5  6  7]\n",
      " [ 8  9 10 11]\n",
      " [12 13 14 15]\n",
      " [16 17 18 19]]\n",
      "X = \n",
      " [[ 1  3]\n",
      " [ 5  7]\n",
      " [ 9 11]\n",
      " [13 15]\n",
      " [17 19]]\n",
      "X = \n",
      " [[ 0  1  2  3  4]\n",
      " [ 5  6  7  8  9]\n",
      " [10 11 12 13 14]\n",
      " [15 16 17 18 19]]\n",
      "X = \n",
      " [[ 0  4  8 12 16]\n",
      " [ 1  5  9 13 17]\n",
      " [ 2  6 10 14 18]\n",
      " [ 3  7 11 15 19]]\n",
      "X = \n",
      " [[ 0  1  2  3  4]\n",
      " [ 5  6  7  8  9]\n",
      " [10 11 12 13 14]\n",
      " [15 16 17 18 19]]\n"
     ]
    }
   ],
   "source": [
    "# Create a Numpy array of evenly spaced values in a given range, using reshape(num_of_rows, num_of_cols)\n",
    "X = np.arange(20).reshape(4,5)\n",
    "print('X = \\n', X)\n",
    "\n",
    "X = np.arange(20).reshape(5,4)\n",
    "print('X = \\n', X)\n",
    "\n",
    "X = np.arange(1,20,2).reshape(5,2)\n",
    "print('X = \\n', X)\n"
   ]
  },
  {
   "cell_type": "code",
   "execution_count": null,
   "metadata": {},
   "outputs": [],
   "source": [
    "# Create a Numpy array of evenly spaced values in a given range, using reshape(num_of_rows, num_of_cols) of order 'C'\n",
    "# 'C' means row-major order\n",
    "X = np.arange(20).reshape(4,5) # default order is 'C'\n",
    "print('X = \\n', X)\n",
    "\n",
    "# Create a Numpy array of evenly spaced values in a given range, using reshape(num_of_rows, num_of_cols) of order 'F'\n",
    "# 'F' means column-major order\n",
    "X = np.arange(20).reshape(4,5, order='F')\n",
    "print('X = \\n', X)\n",
    "\n",
    "# Create a Numpy array of evenly spaced values in a given range, using reshape(num_of_rows, num_of_cols) of order 'A'\n",
    "# 'A' means 'F' if the array is Fortran contiguous in memory, 'C' otherwise\n",
    "X = np.arange(20).reshape(4,5, order='A')\n",
    "print('X = \\n', X)"
   ]
  },
  {
   "cell_type": "code",
   "execution_count": 17,
   "metadata": {},
   "outputs": [
    {
     "name": "stdout",
     "output_type": "stream",
     "text": [
      "X = \n",
      " [[0.55671232 0.29043201 0.93634613]\n",
      " [0.63318543 0.58582694 0.83111031]\n",
      " [0.23872559 0.96115731 0.59519467]]\n",
      "X = \n",
      " [[14  5]\n",
      " [ 7 14]\n",
      " [ 7 11]]\n",
      "X = \n",
      " [[-0.01655316  0.03641052 -0.16738444 ... -0.27118096 -0.09606345\n",
      "  -0.13316218]\n",
      " [-0.00178157 -0.12432951 -0.13656818 ... -0.01674163 -0.31378124\n",
      "  -0.04258121]\n",
      " [-0.03426621  0.00732329  0.15627388 ... -0.06538272  0.12285065\n",
      "  -0.03054999]\n",
      " ...\n",
      " [ 0.14356047  0.05035809  0.02908675 ... -0.112424    0.09338922\n",
      "  -0.00867005]\n",
      " [ 0.09979656 -0.08924061  0.02317091 ...  0.03426194  0.09808585\n",
      "  -0.0024263 ]\n",
      " [-0.02538283  0.07364094 -0.10017821 ...  0.03245751  0.00099233\n",
      "   0.0708541 ]]\n",
      "mean = 8.06555973939159e-05\n",
      "std = 0.10006170255804886\n",
      "max = 0.46396044960397964\n",
      "min = -0.5128115158144814\n",
      "# positive = 500068\n",
      "# negative = 499932\n"
     ]
    }
   ],
   "source": [
    "# Create a Numpy array using the numpy.random.random() function\n",
    "X = np.random.random((3,3))\n",
    "print('X = \\n', X)\n",
    "\n",
    "# Create a Numpy array using the numpy.random.randint() function\n",
    "X = np.random.randint(4,15, (3,2))\n",
    "print('X = \\n', X)\n",
    "\n",
    "# Create a Numpy array using the numpy.random.normal() function\n",
    "X = np.random.normal(0,0.1, size=(1000,1000))\n",
    "print('X = \\n', X)\n",
    "print('mean =', X.mean())\n",
    "print('std =', X.std())\n",
    "print('max =', X.max())\n",
    "print('min =', X.min())\n",
    "print('# positive =', (X > 0).sum())\n",
    "print('# negative =', (X < 0).sum())"
   ]
  },
  {
   "cell_type": "code",
   "execution_count": 18,
   "metadata": {},
   "outputs": [],
   "source": [
    "# Create a 4 X 4 ndarray that contains consecutive even numbers from 2 to 32 (inclusive)\n",
    "X = np.arange(2,33,2).reshape(4,4)\n",
    "print('X = \\n', X)\n"
   ]
  },
  {
   "cell_type": "code",
   "execution_count": 22,
   "metadata": {},
   "outputs": [
    {
     "name": "stdout",
     "output_type": "stream",
     "text": [
      "X =  [1 2 3 4 5]\n",
      "Z =  [ 7  9 11 13 15]\n",
      "The element at index 3 of X is: 4\n",
      "Z =  [ 7  9 13 15]\n",
      "X = \n",
      " [[ 1  2  3  4  5]\n",
      " [ 6  7  8  9 10]\n",
      " [11 12 13 14 15]\n",
      " [16 17 18 19 20]]\n",
      "The element at row 3, column 4 of X is: 14\n",
      "X = \n",
      " [[ 1  2  3  4  5]\n",
      " [11 12 13 14 15]\n",
      " [16 17 18 19 20]]\n",
      "X = \n",
      " [[ 1  4  5]\n",
      " [11 14 15]\n",
      " [16 19 20]]\n",
      "X =  [ 1  4  5 11 14 15 16 19 20 10]\n",
      "X =  [ 1  4  5 11 14 15 16 19 20 10 11 12 13]\n",
      "X =  [ 1  4  5 11 14 15 16 19 20 10 11 12 13 11 12 13]\n"
     ]
    }
   ],
   "source": [
    "import numpy as np\n",
    "\n",
    "X = np.array([1,2,3,4,5])\n",
    "print('X = ', X)\n",
    "\n",
    "# Create a rank 1 ndarray\n",
    "Y = np.array([6,7,8,9,10])\n",
    "\n",
    "# Add X and Y\n",
    "Z = X + Y\n",
    "print('Z = ', Z)\n",
    "\n",
    "# Access the element at index 3 of X\n",
    "print('The element at index 3 of X is:', X[3])\n",
    "\n",
    "# Delete the element at index 2 of Z\n",
    "Z = np.delete(Z, 2)\n",
    "print('Z = ', Z)\n",
    "\n",
    "# Access the element at row 3, column 4 of X\n",
    "X = np.arange(1,21).reshape(4,5)\n",
    "print('X = \\n', X)\t\n",
    "print('The element at row 3, column 4 of X is:', X[2,3])\n",
    "\n",
    "# Delete the second row of X\n",
    "# axis = 0 means row\n",
    "X = np.delete(X, 1, axis=0)\n",
    "print('X = \\n', X)\n",
    "\n",
    "# Delete the second and third columns of X\n",
    "# axis = 1 means column\n",
    "X = np.delete(X, [1,2], axis=1)\n",
    "print('X = \\n', X)\n",
    "\n",
    "# Delete one element from X\n",
    "# If you omit the axis parameter, the delete() function will treat the input array as a 1D vector and will append values along a new axis.\n",
    "# In this case, it will delete the element at index 1\n",
    "X = np.delete(X, 1)\n",
    "print('X = \\n', X)\n",
    "\n",
    "# Delete multiple elements from X\n",
    "# [1,2] means delete elements at index 1 and 2\n",
    "X = np.delete(X, [1,2])\n",
    "print('X = \\n', X)\n",
    "\n",
    "# Delete one element from each row of X\n",
    "X = np.delete(X, [0,2], axis=1)\n",
    "print('X = \\n', X)"
   ]
  },
  {
   "cell_type": "code",
   "execution_count": 24,
   "metadata": {},
   "outputs": [
    {
     "name": "stdout",
     "output_type": "stream",
     "text": [
      "X =  [ 1  2  3  4  5  6  7  8  9 10 11 12 13 14 15 16 17 18 19 20 10]\n",
      "X =  [ 1  2  3  4  5  6  7  8  9 10 11 12 13 14 15 16 17 18 19 20 10 11 12 13]\n",
      "X =  [ 1  2  3  4  5  6  7  8  9 10 11 12 13 14 15 16 17 18 19 20 10 11 12 13\n",
      " 11 12 13]\n"
     ]
    }
   ],
   "source": [
    "X = np.arange(1,21).reshape(4,5)\n",
    "\n",
    "# Append the integer 10 to the end of X\n",
    "X = np.append(X, 10)\n",
    "print('X = ', X)\n",
    "\n",
    "# Append the integer 11, 12 and 13 to the end of X as three separate elements\n",
    "X = np.append(X, [11,12,13])\n",
    "print('X = ', X)\n",
    "\n",
    "# Append the integers 11, 12 and 13 to the end of X as a sequence\n",
    "X = np.append(X, np.arange(11,14))\n",
    "print('X = ', X)"
   ]
  },
  {
   "cell_type": "code",
   "execution_count": 33,
   "metadata": {},
   "outputs": [
    {
     "name": "stdout",
     "output_type": "stream",
     "text": [
      "X = \n",
      " [[ 1  2  3  4  5]\n",
      " [ 6  7  8  9 10]\n",
      " [11 12 13 14 15]\n",
      " [16 17 18 19 20]]\n",
      "X = \n",
      " [10  1  2  3  4  5  6  7  8  9 10 11 12 13 14 15 16 17 18 19 20]\n",
      "X = \n",
      " [[10 10 10 10 10]\n",
      " [ 1  2  3  4  5]\n",
      " [ 6  7  8  9 10]\n",
      " [11 12 13 14 15]\n",
      " [16 17 18 19 20]]\n",
      "X = \n",
      " [[10 10 10 10 10]\n",
      " [ 1  2  3  4  5]\n",
      " [10 11 12 13 14]\n",
      " [ 6  7  8  9 10]\n",
      " [11 12 13 14 15]\n",
      " [16 17 18 19 20]]\n"
     ]
    }
   ],
   "source": [
    "X = np.arange(1,21).reshape(4,5)\n",
    "print('X = \\n', X)\n",
    "\n",
    "# Insert the integer 10 into the beginning of X\n",
    "# Without axis insert will flatten the array and insert the element at index 0\n",
    "X = np.insert(X, 0, 10)\n",
    "print('X = \\n', X)\n",
    "\n",
    "X = np.arange(1,21).reshape(4,5)\n",
    "\n",
    "# Insert the integer 10 into the beginning of X as a separate row   \n",
    "X = np.insert(X, 0, 10, axis=0)\n",
    "print('X = \\n', X)\n",
    "\n",
    "# Insert the integers 10 and 11 as the third and fourth rows of X\n",
    "X = np.insert(X, 2, [10,11,12,13,14], axis=0)\n",
    "print('X = \\n', X)"
   ]
  },
  {
   "cell_type": "code",
   "execution_count": 35,
   "metadata": {},
   "outputs": [
    {
     "name": "stdout",
     "output_type": "stream",
     "text": [
      "Z = \n",
      " [[ 1  2  3  4  5]\n",
      " [ 6  7  8  9 10]\n",
      " [11 12 13 14 15]\n",
      " [16 17 18 19 20]\n",
      " [21 22 23 24 25]\n",
      " [26 27 28 29 30]\n",
      " [31 32 33 34 35]\n",
      " [36 37 38 39 40]]\n",
      "Z = \n",
      " [[ 1  2  3  4  5 21 22 23 24 25]\n",
      " [ 6  7  8  9 10 26 27 28 29 30]\n",
      " [11 12 13 14 15 31 32 33 34 35]\n",
      " [16 17 18 19 20 36 37 38 39 40]]\n"
     ]
    }
   ],
   "source": [
    "# Stack arrays vertically (row-wise)\n",
    "X = np.arange(1,21).reshape(4,5)\n",
    "Y = np.arange(21,41).reshape(4,5)\n",
    "Z = np.vstack((X,Y))\n",
    "print('Z = \\n', Z)\n",
    "\n",
    "# Stack arrays horizontally (column-wise)\n",
    "Z = np.hstack((X,Y))\n",
    "print('Z = \\n', Z)\n"
   ]
  },
  {
   "cell_type": "code",
   "execution_count": null,
   "metadata": {},
   "outputs": [],
   "source": [
    "# Slicing 1D array\n",
    "X = np.arange(1,21)\n",
    "print('X = ', X)\n",
    "\n",
    "# Get the elements from index 0 to index 9\n",
    "print('X[0:10] = ', X[0:10])\n",
    "\n",
    "# Get the elements from index 10 to the end of array\n",
    "print('X[10:] = ', X[10:])\n",
    "print('X[10:20] = ', X[10:20])\n",
    "\n",
    "# Get the elements from index 0 to index 19 at an interval of 2\n",
    "print('X[0:20:2] = ', X[0:20:2])\n",
    "\n",
    "# Get every 4th element starting from index 1\n",
    "print('X[1::4] = ', X[1::4])\n",
    "\n",
    "# Get every 4th element starting from index 0\n",
    "print('X[::4] = ', X[::4])\n",
    "\n",
    "# Get every 4th element starting from index 0 from the end of the array\n",
    "print('X[::-4] = ', X[::-4])\n"
   ]
  },
  {
   "cell_type": "code",
   "execution_count": null,
   "metadata": {},
   "outputs": [],
   "source": [
    "# Slicing 2D array\n",
    "X = np.arange(1,21).reshape(4,5)\n",
    "\n",
    "# Get the first two rows and the last three columns\n",
    "print('X[:2,2:] = \\n', X[:2,2:])\n",
    "\n",
    "# Get the first two rows and the last three columns in reverse order\n",
    "print('X[1::-1,4::-1] = \\n', X[1::-1,4::-1])\n",
    "\n",
    "# Get the first two rows and the last three columns in reverse order\n",
    "print('X[1::-1,4::-1] = \\n', X[1::-1,4::-1])"
   ]
  },
  {
   "cell_type": "code",
   "execution_count": 37,
   "metadata": {},
   "outputs": [
    {
     "name": "stdout",
     "output_type": "stream",
     "text": [
      "X = \n",
      " [[ 1  2  3  4  5]\n",
      " [ 6  7  8  9 10]\n",
      " [11 12 13 14 15]\n",
      " [16 17 18 19 20]]\n",
      "Z = \n",
      " [[ 8  9 10]\n",
      " [13 14 15]\n",
      " [18 19 20]]\n",
      "X = \n",
      " [[ 1  2  3  4  5]\n",
      " [ 6  7 20  9 10]\n",
      " [11 12 13 14 15]\n",
      " [16 17 18 19 20]]\n",
      "Z = \n",
      " [[20  9 10]\n",
      " [13 14 15]\n",
      " [18 19 20]]\n"
     ]
    }
   ],
   "source": [
    "# Here, slicing X and assigning it to Z doesn't create a copy of X\n",
    "# Z is just another name for X and any changes made to X will be reflected in Z\n",
    "# Slicing only creates a view of the original array. It does not create a new array.\n",
    "X = np.arange(1,21).reshape(4,5)\n",
    "print('X = \\n', X)\n",
    "Z = X[1:4,2:5]\n",
    "print('Z = \\n', Z)\n",
    "X[1,2] = 20\n",
    "print('X = \\n', X)\n",
    "print('Z = \\n', Z)"
   ]
  },
  {
   "cell_type": "code",
   "execution_count": 38,
   "metadata": {},
   "outputs": [
    {
     "name": "stdout",
     "output_type": "stream",
     "text": [
      "X = \n",
      " [[ 1  2  3  4  5]\n",
      " [ 6  7  8  9 10]\n",
      " [11 12 13 14 15]\n",
      " [16 17 18 19 20]]\n",
      "Z = \n",
      " [[ 8  9 10]\n",
      " [13 14 15]\n",
      " [18 19 20]]\n",
      "X = \n",
      " [[ 1  2  3  4  5]\n",
      " [ 6  7 20  9 10]\n",
      " [11 12 13 14 15]\n",
      " [16 17 18 19 20]]\n",
      "Z = \n",
      " [[ 8  9 10]\n",
      " [13 14 15]\n",
      " [18 19 20]]\n"
     ]
    }
   ],
   "source": [
    "# Using ndarray.copy(order='C'), creates a copy of the given ndarray\n",
    "# order='C' means row-major order\n",
    "X = np.arange(1,21).reshape(4,5)\n",
    "print('X = \\n', X)\n",
    "Z = X[1:4,2:5].copy(order='C')\n",
    "print('Z = \\n', Z)\n",
    "X[1,2] = 20\n",
    "print('X = \\n', X)\n",
    "print('Z = \\n', Z)"
   ]
  },
  {
   "cell_type": "code",
   "execution_count": 40,
   "metadata": {},
   "outputs": [
    {
     "name": "stdout",
     "output_type": "stream",
     "text": [
      "X = \n",
      " [[ 1  2  3  4  5]\n",
      " [ 6  7  8  9 10]\n",
      " [11 12 13 14 15]\n",
      " [16 17 18 19 20]]\n",
      "Z =  [ 1  7 13 19]\n",
      "indices =  [1 3]\n",
      "Y = \n",
      " [[ 6  7  8  9 10]\n",
      " [16 17 18 19 20]]\n"
     ]
    }
   ],
   "source": [
    "# Use an array as indices to either make slices, select, or change elements of an array\n",
    "X = np.arange(1,21).reshape(4,5)\n",
    "print('X = \\n', X)\n",
    "Z = X[[0,1,2,3],[0,1,2,3]]\n",
    "print('Z = ', Z)\n",
    "\n",
    "indices = np.array([1,3])\n",
    "print('indices = ', indices)\n",
    "Y = X[indices,:]\n",
    "print('Y = \\n', Y)\n"
   ]
  },
  {
   "cell_type": "code",
   "execution_count": 43,
   "metadata": {},
   "outputs": [
    {
     "name": "stdout",
     "output_type": "stream",
     "text": [
      "Shape of X = \n",
      " (50, 5)\n",
      "row_indices =  [21 27 38 15 40  6 42 22 21  4]\n",
      "[[ 9 11 17  2 14]\n",
      " [11 17 17  8 12]\n",
      " [ 7  8 10  1  6]\n",
      " [11 13  8 15 14]\n",
      " [ 6 18 18 17  5]\n",
      " [13 14  1 11  9]\n",
      " [16  4  3  5  4]\n",
      " [10  4 16 10 17]\n",
      " [ 9 11 17  2 14]\n",
      " [16 19  4 19  3]]\n"
     ]
    }
   ],
   "source": [
    "# Use an array as indices to extract specific rows from a rank 2 ndarray.\n",
    "X = np.random.randint(1,20, size=(50,5))\n",
    "print('Shape of X = \\n', X.shape)\n",
    "\n",
    "# Create a rank 1 ndarray that contains a randomly chosen 10 values between `0` to `len(X)` (50)\n",
    "row_indices = np.random.randint(0,50, size=10)\n",
    "print('row_indices = ', row_indices)\n",
    "\n",
    "# Print those rows of X whose indices are represented by entire row_indices ndarray\n",
    "X_subset = X[row_indices, :]\n",
    "print(X_subset)\n"
   ]
  },
  {
   "cell_type": "code",
   "execution_count": 46,
   "metadata": {},
   "outputs": [
    {
     "name": "stdout",
     "output_type": "stream",
     "text": [
      "X = \n",
      " [[ 1  2  3  4  5]\n",
      " [ 6  7  8  9 10]\n",
      " [11 12 13 14 15]\n",
      " [16 17 18 19 20]\n",
      " [21 22 23 24 25]]\n",
      "diag =  [ 1  7 13 19 25]\n",
      "diag =  [ 2  8 14 20]\n",
      "diag =  [11 17 23]\n"
     ]
    }
   ],
   "source": [
    "# Using numpy.diag() function\n",
    "X = np.arange(1,26).reshape(5,5)\n",
    "print('X = \\n', X)\n",
    "print('diag = ', np.diag(X))\n",
    "\n",
    "# Using numpy.diag() function with k=1\n",
    "# k=1 means diagonal above the main diagonal\n",
    "print('diag = ', np.diag(X, k=1))\n",
    "\n",
    "# Using numpy.diag() function with k=-1\n",
    "# k=-1 means diagonal below the main diagonal\n",
    "print('diag = ', np.diag(X, k=-2))\n"
   ]
  },
  {
   "cell_type": "code",
   "execution_count": 47,
   "metadata": {},
   "outputs": [
    {
     "name": "stdout",
     "output_type": "stream",
     "text": [
      "X = \n",
      " [[1 2 3]\n",
      " [5 2 8]\n",
      " [1 2 3]]\n",
      "The unique elements in X are: [1 2 3 5 8]\n"
     ]
    }
   ],
   "source": [
    "# Using numpy.unique() function\n",
    "X = np.array([[1,2,3],[5,2,8],[1,2,3]])\n",
    "print('X = \\n', X)\n",
    "print('The unique elements in X are:', np.unique(X))"
   ]
  },
  {
   "cell_type": "code",
   "execution_count": 49,
   "metadata": {},
   "outputs": [
    {
     "name": "stdout",
     "output_type": "stream",
     "text": [
      "X = \n",
      " [[ 0  1  2  3  4]\n",
      " [ 5  6  7  8  9]\n",
      " [10 11 12 13 14]\n",
      " [15 16 17 18 19]\n",
      " [20 21 22 23 24]]\n",
      "The elements in X that are greater than 10: [11 12 13 14 15 16 17 18 19 20 21 22 23 24]\n",
      "The elements in X that are between 10 and 17: [11 12 13 14 15 16]\n",
      "The elements in X that are between 10 and 17 or greater than 20: [11 12 13 14 15 16 21 22 23 24]\n",
      "The elements in X that are greater than 10: (array([2, 2, 2, 2, 3, 3, 3, 3, 3, 4, 4, 4, 4, 4], dtype=int64), array([1, 2, 3, 4, 0, 1, 2, 3, 4, 0, 1, 2, 3, 4], dtype=int64))\n",
      "The elements in X that are greater than 10: (array([2, 2, 2, 2, 3, 3, 3, 3, 3, 4, 4, 4, 4, 4], dtype=int64), array([1, 2, 3, 4, 0, 1, 2, 3, 4, 0, 1, 2, 3, 4], dtype=int64))\n",
      "Number of elements in X that are greater than 10: 14\n",
      "Number of elements in X that are greater than 10: 14\n",
      "Number of elements in each column of X that are greater than 10: [2 3 3 3 3]\n",
      "Number of elements in each row of X that are greater than 10: [0 0 4 5 5]\n",
      "Are there any elements greater than 10 in each column of X: [ True  True  True  True  True]\n"
     ]
    }
   ],
   "source": [
    "# Boolean Indexing\n",
    "X = np.arange(25).reshape(5,5)\n",
    "print('X = \\n', X)\n",
    "print('The elements in X that are greater than 10:', X[X > 10])\n",
    "print('The elements in X that are between 10 and 17:', X[(X > 10) & (X < 17)])\n",
    "print('The elements in X that are between 10 and 17 or greater than 20:', X[((X > 10) & (X < 17)) | (X > 20)])\n",
    "\n",
    "# Use the np.nonzero() function to print the indices of the elements in X that are greater than 10\n",
    "print('The elements in X that are greater than 10:', np.nonzero(X > 10))\n",
    "\n",
    "# Use the np.where() function to print the indices of the elements in X that are greater than 10\n",
    "print('The elements in X that are greater than 10:', np.where(X > 10))\n",
    "\n",
    "# Use the np.count_nonzero() function to print the number of elements in X that are greater than 10\n",
    "print('Number of elements in X that are greater than 10:', np.count_nonzero(X > 10))\n",
    "\n",
    "# Use the np.sum() function to print the number of elements in X that are greater than 10\n",
    "print('Number of elements in X that are greater than 10:', np.sum(X > 10))\n",
    "\n",
    "# Use the np.sum() function to print the number of elements in each column of X that are greater than 10\n",
    "print('Number of elements in each column of X that are greater than 10:', np.sum(X > 10, axis=0))\n",
    "\n",
    "# Use the np.sum() function to print the number of elements in each row of X that are greater than 10\n",
    "print('Number of elements in each row of X that are greater than 10:', np.sum(X > 10, axis=1))\n",
    "\n",
    "# Use the np.any() function to print out whether any elements in each column of X are greater than 10\n",
    "print('Are there any elements greater than 10 in each column of X:', np.any(X > 10, axis=0))\n"
   ]
  },
  {
   "cell_type": "code",
   "execution_count": 52,
   "metadata": {},
   "outputs": [
    {
     "name": "stdout",
     "output_type": "stream",
     "text": [
      "The elements that are both in X and Y: [2 4]\n",
      "The elements that are in X that are not in Y: [1 3 5]\n",
      "All the elements of X and Y: [1 2 3 4 5 6 7 8]\n",
      "Original X =  [ 5  5 10  6  5  2  3  5  7  2]\n",
      "Sorted X (out of place): [ 2  2  3  5  5  5  5  6  7 10]\n",
      "X after sorting: [ 5  5 10  6  5  2  3  5  7  2]\n",
      "Sorted X (in-place): [ 2  2  3  5  5  5  5  6  7 10]\n",
      "X after sorting: [ 5  5 10  6  5  2  3  5  7  2]\n",
      "X after sorting: [ 2  2  3  5  5  5  5  6  7 10]\n",
      "Sorted X (only unique elements): [ 2  3  5  6  7 10]\n",
      "Original X = \n",
      " [[ 7  1  1  3  9]\n",
      " [ 6 10  2  2  8]\n",
      " [ 6  6  4  1  1]\n",
      " [10  7 10  5  7]\n",
      " [ 4  9  9  3  2]]\n",
      "Sorting the columns of X:\n",
      " [[ 4  1  1  1  1]\n",
      " [ 6  6  2  2  2]\n",
      " [ 6  7  4  3  7]\n",
      " [ 7  9  9  3  8]\n",
      " [10 10 10  5  9]]\n",
      "Sorting the rows of X:\n",
      " [[ 1  1  3  7  9]\n",
      " [ 2  2  6  8 10]\n",
      " [ 1  1  4  6  6]\n",
      " [ 5  7  7 10 10]\n",
      " [ 2  3  4  9  9]]\n"
     ]
    }
   ],
   "source": [
    "# Set operations\n",
    "X = np.array([1,2,3,4,5])\n",
    "Y = np.array([6,7,2,8,4])\n",
    "print('The elements that are both in X and Y:', np.intersect1d(X,Y))\n",
    "print('The elements that are in X that are not in Y:', np.setdiff1d(X,Y))\n",
    "print('All the elements of X and Y:', np.union1d(X,Y))\n",
    "\n",
    "# Sorting\n",
    "X = np.random.randint(1,11,size=(10,))\n",
    "print('Original X = ', X)\n",
    "print('Sorted X (out of place):', np.sort(X))\n",
    "print('X after sorting:', X)\n",
    "print('Sorted X (in-place):', np.sort(X, kind='quicksort'))\n",
    "print('X after sorting:', X)\n",
    "X.sort()\n",
    "print('X after sorting:', X)\n",
    "print('Sorted X (only unique elements):', np.sort(np.unique(X)))\n",
    "\n",
    "# Sorting rows and columns\n",
    "X = np.random.randint(1,11,size=(5,5))\n",
    "print('Original X = \\n', X)\n",
    "print('Sorting the columns of X:\\n', np.sort(X, axis=0))\n",
    "print('Sorting the rows of X:\\n', np.sort(X, axis=1))\n"
   ]
  },
  {
   "cell_type": "code",
   "execution_count": 54,
   "metadata": {},
   "outputs": [
    {
     "name": "stdout",
     "output_type": "stream",
     "text": [
      "X = \n",
      " [[1. 1. 1.]\n",
      " [1. 1. 1.]\n",
      " [1. 1. 1.]]\n",
      "Y =  [0 1 2]\n",
      "X + Y = \n",
      " [[1. 2. 3.]\n",
      " [1. 2. 3.]\n",
      " [1. 2. 3.]]\n",
      "X + Y = \n",
      " [[2. 3. 4.]\n",
      " [2. 3. 4.]\n",
      " [2. 3. 4.]]\n"
     ]
    }
   ],
   "source": [
    "# Broadcasting in Numpy\n",
    "X = np.ones((3,3))\n",
    "print('X = \\n', X)\n",
    "Y = np.arange(3)\n",
    "print('Y = ', Y)\n",
    "print('X + Y = \\n', X + Y)\n",
    "print('X + Y = \\n', X *2 + Y)\n",
    "\n",
    "# Broadcasting in Numpy in column-wise\n",
    "X = np.ones((3,3))\n",
    "print('X = \\n', X)\n",
    "Y = np.arange(3).reshape(3,1)\n",
    "print('Y = \\n', Y)\n",
    "print('X + Y = \\n', X + Y)\n"
   ]
  },
  {
   "cell_type": "markdown",
   "metadata": {},
   "source": [
    "### [Link for mathematical functions in Numpy](https://numpy.org/devdocs/reference/routines.math.html#mathematical-functions)"
   ]
  },
  {
   "cell_type": "code",
   "execution_count": null,
   "metadata": {},
   "outputs": [],
   "source": []
  }
 ],
 "metadata": {
  "kernelspec": {
   "display_name": "Python 3",
   "language": "python",
   "name": "python3"
  },
  "language_info": {
   "codemirror_mode": {
    "name": "ipython",
    "version": 3
   },
   "file_extension": ".py",
   "mimetype": "text/x-python",
   "name": "python",
   "nbconvert_exporter": "python",
   "pygments_lexer": "ipython3",
   "version": "3.12.0"
  }
 },
 "nbformat": 4,
 "nbformat_minor": 2
}
