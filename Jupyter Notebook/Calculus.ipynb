{
 "cells": [
  {
   "cell_type": "markdown",
   "metadata": {},
   "source": [
    "# Calculus\n",
    "\n",
    "\"The art of doing mathematics is finding that special case that contains all the germs of generality.\"\n",
    "-David Hilbert\n",
    "\n",
    "## Derivatives\n",
    "\n",
    "$\\frac{dy}{dx} = f(x)$\n",
    "\n",
    "\"So far as the theories of mathematics are about reality, they are not certain; so far as they are certain, they are not about reality.\" -Albert Einstein\n",
    "\n",
    "### Goals:\n",
    "- Learn derivatives\n",
    "- Avoid paradoxes\n",
    "\n",
    "The true derivative \n",
    "\n",
    "$\\frac{dy}{dx} = \\frac{f(x+\\Delta.x)-f(x)}{\\Delta.x} \\ldots where \\; y = f(x)$ \n",
    "\n",
    "\"You know, for a mathematician, he did not have enough imagination. But he has become a poet and now he is fine.\"\n",
    "- David Hilbert\n",
    "\n",
    "### Power Rule\n",
    "\n",
    "$\\frac{d(x^n)}{dx} = nx^{n-1}$\n",
    "\n",
    "### Chain Rule\n",
    "\n",
    "- The derivates of sum of two functions of same variable is the sum of derivates of two variables.\n",
    "- The derivaes of product of two functions of same variable is the area enclosed.\n",
    "\n",
    "$\\frac{dg(h(x))}{dx} = \\frac{dg(h(x))}{dh}.\\frac{dh(x)}{dx}$"
   ]
  },
  {
   "cell_type": "markdown",
   "metadata": {},
   "source": [
    "### Derivate of exponential\n",
    "\n",
    "$\\frac{da^t}{dt} = a^t.\\ln{a}$ \n",
    "\n",
    "$\\frac{de^{ct}}{dt} = c.e^{ct}$\n",
    "\n",
    "where $e = 2.718$\n",
    "\n",
    "### Implicit Differentiation\n",
    "\n",
    "- The derivates of function having two different variables is said to be the change due to both the variables.\n",
    "\n",
    "## Limits\n",
    "\n",
    "- Goal 1: Formal definition of a derivative\n",
    "- Goal 2: $(\\epsilon , \\delta)$ definition of limits\n",
    "- Goal 3: L'Hospital rule\n",
    "\n",
    "\"One should never  try to prove anything that is not almost obvious.\" - Alexander Grothendieck\n",
    "\n",
    "## Integrals\n",
    "\n",
    "- Inverse of derivates or antiderivates\n",
    "\n",
    "$$\\int_{a}^{b} f(x) \\,dx = Area \\; enclosed \\; when \\; dx \\; \\to \\infty$$\n",
    "\n",
    "$$\\int_{a}^{b} f(x) \\,dx = F(b) - F(a)  \\\\\n",
    "when \\frac{dF}{dx}(x) = f(x) $$"
   ]
  },
  {
   "cell_type": "markdown",
   "metadata": {},
   "source": [
    "\"We often hear that mathematics consists mainly of proving theorems. Is a writer's job mainly that of writing sentences?\" - Gian-Carlo Rota\n",
    "\n",
    "### Average \n",
    "\n",
    "$$Average =  \\frac{\\int_{a}^{b} f(x) \\,dx}{b-a} = \\frac{F(b) - F(a)}{b-a}$$\n",
    "\n",
    "### Taylor Series\n",
    "\n",
    "- "
   ]
  },
  {
   "cell_type": "code",
   "execution_count": null,
   "metadata": {},
   "outputs": [],
   "source": []
  }
 ],
 "metadata": {
  "language_info": {
   "name": "python"
  }
 },
 "nbformat": 4,
 "nbformat_minor": 2
}
