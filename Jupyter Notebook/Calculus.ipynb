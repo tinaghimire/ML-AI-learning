{
 "cells": [
  {
   "cell_type": "markdown",
   "metadata": {},
   "source": [
    "# Calculus\n",
    "\n",
    "\"The art of doing mathematics is finding that special case that contains all the germs of generality.\"\n",
    "-David Hilbert\n",
    "\n",
    "## Derivatives\n",
    "\n",
    "$\\frac{dy}{dx} = f(x)$\n",
    "\n",
    "\"So far as the theories of mathematics are about reality, they are not certain; so far as they are certain, they are not about reality.\" -Albert Einstein\n",
    "\n",
    "### Goals:\n",
    "- Learn derivatives\n",
    "- Avoid paradoxes\n",
    "\n",
    "The true derivative \n",
    "\n",
    "$\\frac{dy}{dx} = \\frac{f(x+\\Delta.x)-f(x)}{\\Delta.x} \\ldots where \\; y = f(x)$ \n",
    "\n",
    "\"You know, for a mathematician, he did not have enough imagination. But he has become a poet and now he is fine.\"\n",
    "- David Hilbert\n",
    "\n"
   ]
  },
  {
   "cell_type": "code",
   "execution_count": null,
   "metadata": {},
   "outputs": [],
   "source": []
  }
 ],
 "metadata": {
  "language_info": {
   "name": "python"
  }
 },
 "nbformat": 4,
 "nbformat_minor": 2
}
